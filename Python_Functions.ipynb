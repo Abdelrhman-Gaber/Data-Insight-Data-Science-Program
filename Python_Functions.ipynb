{
  "nbformat": 4,
  "nbformat_minor": 0,
  "metadata": {
    "colab": {
      "name": "Python Functions.ipynb",
      "provenance": []
    },
    "kernelspec": {
      "name": "python3",
      "display_name": "Python 3"
    },
    "language_info": {
      "name": "python"
    }
  },
  "cells": [
    {
      "cell_type": "markdown",
      "metadata": {
        "id": "DN71cps4QK4x"
      },
      "source": [
        "# Python Functions\n",
        "A function is a block of code which only runs when it is called.\n",
        "\n",
        "You can pass data, known as parameters, into a function.\n",
        "\n",
        "A function can return data as a result."
      ]
    },
    {
      "cell_type": "code",
      "metadata": {
        "id": "7PXdrUPMP4y4"
      },
      "source": [
        "'''\n",
        "Creating a Function\n",
        "In Python a function is defined using the def keyword\n",
        "'''\n",
        "def welcome():\n",
        "  print('Welcome to All')"
      ],
      "execution_count": 1,
      "outputs": []
    },
    {
      "cell_type": "markdown",
      "metadata": {
        "id": "hbWqp9jvQtCh"
      },
      "source": [
        "### Calling a Function\n"
      ]
    },
    {
      "cell_type": "code",
      "metadata": {
        "colab": {
          "base_uri": "https://localhost:8080/"
        },
        "id": "qd5sQXWZQsNK",
        "outputId": "f7d77b05-cb9a-4877-a407-e754fe8731c3"
      },
      "source": [
        "#To call a function, use the function name followed by parenthesis\n",
        "welcome()"
      ],
      "execution_count": 2,
      "outputs": [
        {
          "output_type": "stream",
          "name": "stdout",
          "text": [
            "Welcome to All\n"
          ]
        }
      ]
    },
    {
      "cell_type": "markdown",
      "metadata": {
        "id": "qtLMM2pLRLQk"
      },
      "source": [
        "### Arguments\n",
        "Information can be passed into functions as arguments.\n",
        "\n",
        "Arguments are specified after the function name, inside the parentheses. You can add as many arguments as you want, just separate them with a comma.\n",
        "\n",
        "The following example has a function with one argument (name). When the function is called, we pass along a first name, which is used inside the function to print the name"
      ]
    },
    {
      "cell_type": "code",
      "metadata": {
        "colab": {
          "base_uri": "https://localhost:8080/"
        },
        "id": "Ytt0WKDTQ11k",
        "outputId": "7de48cf5-fcf8-4a84-9cac-0bca5d610dee"
      },
      "source": [
        "def print_name(name):\n",
        "  print(name)\n",
        "# calling function  \n",
        "print_name('Ahmed')\n",
        "print_name('Abdelrhman')\n"
      ],
      "execution_count": 3,
      "outputs": [
        {
          "output_type": "stream",
          "name": "stdout",
          "text": [
            "Ahmed\n",
            "Abdelrhman\n"
          ]
        }
      ]
    },
    {
      "cell_type": "code",
      "metadata": {
        "colab": {
          "base_uri": "https://localhost:8080/"
        },
        "id": "gF6FVK1pRrj6",
        "outputId": "262e23e4-a459-44e7-c12a-f97e807a4a1a"
      },
      "source": [
        "# define function has more than one argument\n",
        "def print_full_name(fname,lname):\n",
        "  print(fname+' '+lname)\n",
        "# calling function  \n",
        "print_full_name('Ahmed','Mohamed')\n",
        "print_full_name('Abdelrhman','Gaber')\n"
      ],
      "execution_count": 5,
      "outputs": [
        {
          "output_type": "stream",
          "name": "stdout",
          "text": [
            "Ahmed Mohamed\n",
            "Abdelrhman Gaber\n"
          ]
        }
      ]
    },
    {
      "cell_type": "markdown",
      "metadata": {
        "id": "qgvzDXUYSjrD"
      },
      "source": [
        "### Default Parameter Value\n",
        "The following example shows how to use a default parameter value.\n",
        "\n",
        "If we call the function without argument, it uses the default value"
      ]
    },
    {
      "cell_type": "code",
      "metadata": {
        "colab": {
          "base_uri": "https://localhost:8080/"
        },
        "id": "Xh3CLlZ_SVTi",
        "outputId": "332ec4ea-7991-47e9-9062-2e30f3c7f1eb"
      },
      "source": [
        "# if we didn`t pass any value it will take the default\n",
        "def add(x , y=3):\n",
        "  z = x + y\n",
        "  print('Result = '+str(z))\n",
        "# calling function\n",
        "add(7) # there is no error because it takes the default value of y = 3\n",
        "add(7,7)"
      ],
      "execution_count": 7,
      "outputs": [
        {
          "output_type": "stream",
          "name": "stdout",
          "text": [
            "Result = 10\n",
            "Result = 14\n"
          ]
        }
      ]
    },
    {
      "cell_type": "markdown",
      "metadata": {
        "id": "J8bIt5xeUAVk"
      },
      "source": [
        "### Return Values\n",
        "To let a function return a value, use the return statement"
      ]
    },
    {
      "cell_type": "code",
      "metadata": {
        "id": "Ne04WhYHTRs7"
      },
      "source": [
        "# get the power 2 of any passing value in the list\n",
        "def power_2(l):\n",
        "  return [i**2 for i in l]\n",
        "\n"
      ],
      "execution_count": 8,
      "outputs": []
    },
    {
      "cell_type": "code",
      "metadata": {
        "colab": {
          "base_uri": "https://localhost:8080/"
        },
        "id": "L-1uRNguUk_j",
        "outputId": "116f226f-b721-45a5-8ae3-b0f4fe5bac9f"
      },
      "source": [
        "# calling function and pass a list of numbers it will return a list of power two for each number\n",
        "power_2([1,2,3,4,5,6])"
      ],
      "execution_count": 9,
      "outputs": [
        {
          "output_type": "execute_result",
          "data": {
            "text/plain": [
              "[1, 4, 9, 16, 25, 36]"
            ]
          },
          "metadata": {},
          "execution_count": 9
        }
      ]
    }
  ]
}