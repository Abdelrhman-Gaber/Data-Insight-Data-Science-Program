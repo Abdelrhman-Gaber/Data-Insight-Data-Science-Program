{
  "nbformat": 4,
  "nbformat_minor": 0,
  "metadata": {
    "colab": {
      "name": "Python For Loops.ipynb",
      "provenance": []
    },
    "kernelspec": {
      "name": "python3",
      "display_name": "Python 3"
    },
    "language_info": {
      "name": "python"
    }
  },
  "cells": [
    {
      "cell_type": "markdown",
      "metadata": {
        "id": "Uhlj_pTg_qsI"
      },
      "source": [
        "# Python For Loops\n",
        "### Looping Through a List"
      ]
    },
    {
      "cell_type": "code",
      "metadata": {
        "colab": {
          "base_uri": "https://localhost:8080/"
        },
        "id": "hrudHO9G_ZR6",
        "outputId": "577b0099-5c5f-4b45-8a8d-f88a89e464f4"
      },
      "source": [
        "names_list = ['Ahmed','Menna','Sara','Abdelrhman']\n",
        "for n in names_list:\n",
        "  print(n)"
      ],
      "execution_count": 1,
      "outputs": [
        {
          "output_type": "stream",
          "name": "stdout",
          "text": [
            "Ahmed\n",
            "Menna\n",
            "Sara\n",
            "Abdelrhman\n"
          ]
        }
      ]
    },
    {
      "cell_type": "markdown",
      "metadata": {
        "id": "4YRblTgRDQ-i"
      },
      "source": [
        "### Looping Through a String"
      ]
    },
    {
      "cell_type": "code",
      "metadata": {
        "colab": {
          "base_uri": "https://localhost:8080/"
        },
        "id": "VATzJCYWAVtv",
        "outputId": "c00042f0-3db3-4244-ad6c-8901e6d5178e"
      },
      "source": [
        "for n in 'Abdelrhman':\n",
        "  print(n)"
      ],
      "execution_count": 2,
      "outputs": [
        {
          "output_type": "stream",
          "name": "stdout",
          "text": [
            "A\n",
            "b\n",
            "d\n",
            "e\n",
            "l\n",
            "r\n",
            "h\n",
            "m\n",
            "a\n",
            "n\n"
          ]
        }
      ]
    },
    {
      "cell_type": "markdown",
      "metadata": {
        "id": "-g72POu2DtI0"
      },
      "source": [
        "### The range() Function"
      ]
    },
    {
      "cell_type": "code",
      "metadata": {
        "colab": {
          "base_uri": "https://localhost:8080/"
        },
        "id": "ovaW61iqDlDi",
        "outputId": "16cdc060-8426-408c-a57d-4743bb5403d5"
      },
      "source": [
        "# range(start , end,step) end value excluded\n",
        "for i in range(0,6):\n",
        "  print(i)"
      ],
      "execution_count": 3,
      "outputs": [
        {
          "output_type": "stream",
          "name": "stdout",
          "text": [
            "0\n",
            "1\n",
            "2\n",
            "3\n",
            "4\n",
            "5\n"
          ]
        }
      ]
    },
    {
      "cell_type": "code",
      "metadata": {
        "colab": {
          "base_uri": "https://localhost:8080/"
        },
        "id": "8ete4VWCD_Tv",
        "outputId": "2bf03f7d-d631-4758-e6c2-577c93d718ad"
      },
      "source": [
        "# range(start , end,step) end value excluded step = 2\n",
        "for i in range(0,6,2):\n",
        "  print(i)"
      ],
      "execution_count": 4,
      "outputs": [
        {
          "output_type": "stream",
          "name": "stdout",
          "text": [
            "0\n",
            "2\n",
            "4\n"
          ]
        }
      ]
    },
    {
      "cell_type": "markdown",
      "metadata": {
        "id": "lNg1iyRTEZfs"
      },
      "source": [
        "### The break Statement\n"
      ]
    },
    {
      "cell_type": "code",
      "metadata": {
        "colab": {
          "base_uri": "https://localhost:8080/"
        },
        "id": "uBq12DW-EFcd",
        "outputId": "bc7b124e-345b-4208-f7a9-5293eef56ae6"
      },
      "source": [
        "# With the break statement we can stop the loop before it has looped through all the list\n",
        "names_list = ['Ahmed','Menna','Sara','Abdelrhman']\n",
        "for n in names_list:\n",
        "  print(n)\n",
        "  if n == 'Sara':\n",
        "    break"
      ],
      "execution_count": 6,
      "outputs": [
        {
          "output_type": "stream",
          "name": "stdout",
          "text": [
            "Ahmed\n",
            "Menna\n",
            "Sara\n"
          ]
        }
      ]
    },
    {
      "cell_type": "markdown",
      "metadata": {
        "id": "qNRqtmIdE2i5"
      },
      "source": [
        "### The continue Statement"
      ]
    },
    {
      "cell_type": "code",
      "metadata": {
        "colab": {
          "base_uri": "https://localhost:8080/"
        },
        "id": "W8yl_d2KEySw",
        "outputId": "2ebd200d-0960-4bc4-8c74-b2eb07997617"
      },
      "source": [
        "#With the continue statement we can stop the current iteration of the loop, and continue with the next\n",
        "names_list = ['Ahmed','Menna','Sara','Abdelrhman']\n",
        "for n in names_list:\n",
        "  if n == 'Sara':\n",
        "    continue\n",
        "  print(n)  "
      ],
      "execution_count": 7,
      "outputs": [
        {
          "output_type": "stream",
          "name": "stdout",
          "text": [
            "Ahmed\n",
            "Menna\n",
            "Abdelrhman\n"
          ]
        }
      ]
    },
    {
      "cell_type": "markdown",
      "metadata": {
        "id": "mT_jVmV8FQ4S"
      },
      "source": [
        "### The pass Statement"
      ]
    },
    {
      "cell_type": "code",
      "metadata": {
        "id": "pqQd4DIwFFrn"
      },
      "source": [
        "# for loops cannot be empty, but if you for some reason have a for loop with no content, put in the pass statement to avoid getting an error\n",
        "names_list = ['Ahmed','Menna','Sara','Abdelrhman']\n",
        "for n in names_list:\n",
        "  pass"
      ],
      "execution_count": 8,
      "outputs": []
    },
    {
      "cell_type": "markdown",
      "metadata": {
        "id": "dlKN80psFcph"
      },
      "source": [
        "### Nested Loops"
      ]
    },
    {
      "cell_type": "code",
      "metadata": {
        "colab": {
          "base_uri": "https://localhost:8080/"
        },
        "id": "UNzvjP1lFblN",
        "outputId": "3f681e44-42c0-46c2-d72f-35b2e5ec2060"
      },
      "source": [
        "#A nested loop is a loop inside a loop. The \"inner loop\" will be executed one time for each iteration of the \"outer loop\"\n",
        "adj = [\"red\", \"big\", \"tasty\"]\n",
        "fruits = [\"apple\", \"banana\", \"cherry\"]\n",
        "\n",
        "for x in adj:\n",
        "  for y in fruits:\n",
        "    print(x, y)\n"
      ],
      "execution_count": 9,
      "outputs": [
        {
          "output_type": "stream",
          "name": "stdout",
          "text": [
            "red apple\n",
            "red banana\n",
            "red cherry\n",
            "big apple\n",
            "big banana\n",
            "big cherry\n",
            "tasty apple\n",
            "tasty banana\n",
            "tasty cherry\n"
          ]
        }
      ]
    }
  ]
}