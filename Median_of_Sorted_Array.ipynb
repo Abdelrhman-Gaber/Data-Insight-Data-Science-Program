{
  "nbformat": 4,
  "nbformat_minor": 0,
  "metadata": {
    "colab": {
      "name": "Median of Sorted Array.ipynb",
      "provenance": []
    },
    "kernelspec": {
      "name": "python3",
      "display_name": "Python 3"
    },
    "language_info": {
      "name": "python"
    }
  },
  "cells": [
    {
      "cell_type": "markdown",
      "metadata": {
        "id": "QVX7ykQss5A2"
      },
      "source": [
        "# Median of sorted Array\n",
        "\n",
        "in this application if we have array like [1,3,5,4,2] we will sort it and calculate the median it will be [1,2,3,4,5] and median will be 3\n",
        "\n"
      ]
    },
    {
      "cell_type": "code",
      "metadata": {
        "id": "oTosfK-TsDmo"
      },
      "source": [
        "def median_of_array(array):\n",
        "  median = 0\n",
        "  length = len(array)\n",
        "  array.sort()\n",
        "  if length % 2 == 0:\n",
        "    median = (array[length // 2] + array[(length // 2) -1] )/ 2\n",
        "    return median\n",
        "  else:\n",
        "    median = array[length // 2]\n",
        "    return median  \n"
      ],
      "execution_count": 1,
      "outputs": []
    },
    {
      "cell_type": "code",
      "metadata": {
        "colab": {
          "base_uri": "https://localhost:8080/"
        },
        "id": "wtSNt-W_u1M5",
        "outputId": "53387e14-a941-48b9-d8cc-5cba06891a02"
      },
      "source": [
        "# test Function for list of odd elements\n",
        "median_of_array([1,3,5,4,2])"
      ],
      "execution_count": 2,
      "outputs": [
        {
          "output_type": "execute_result",
          "data": {
            "text/plain": [
              "3"
            ]
          },
          "metadata": {},
          "execution_count": 2
        }
      ]
    },
    {
      "cell_type": "code",
      "metadata": {
        "colab": {
          "base_uri": "https://localhost:8080/"
        },
        "id": "xbIR6D6tvqP3",
        "outputId": "caea6d0c-7a8f-41cc-fd58-cdc2eb1e3b24"
      },
      "source": [
        "# test function for a list of even elements\n",
        "median_of_array([1,3,5,4,2,6])"
      ],
      "execution_count": 3,
      "outputs": [
        {
          "output_type": "execute_result",
          "data": {
            "text/plain": [
              "3.5"
            ]
          },
          "metadata": {},
          "execution_count": 3
        }
      ]
    }
  ]
}