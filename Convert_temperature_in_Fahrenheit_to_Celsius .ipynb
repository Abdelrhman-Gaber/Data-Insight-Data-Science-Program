{
  "nbformat": 4,
  "nbformat_minor": 0,
  "metadata": {
    "colab": {
      "name": "Convert temperature in Fahrenheit to Celsius.ipynb",
      "provenance": []
    },
    "kernelspec": {
      "name": "python3",
      "display_name": "Python 3"
    },
    "language_info": {
      "name": "python"
    }
  },
  "cells": [
    {
      "cell_type": "markdown",
      "metadata": {
        "id": "VlCirKfs8tJB"
      },
      "source": [
        "# First simple application\n",
        "\n",
        "### Convert temperature in Fahrenheit to Celsius\n",
        "\n",
        "there is a simple mathematical formula C = (5/9) * (F - 32)"
      ]
    },
    {
      "cell_type": "code",
      "metadata": {
        "id": "EK7g0PU5loss"
      },
      "source": [
        "# this function take the tem in fahrenheit and return it in celsius\n",
        "def Fahrenheit_to_Celsius(fahrenheit):\n",
        "  celsius = (5/9) * (fahrenheit - 32)\n",
        "  return celsius"
      ],
      "execution_count": 1,
      "outputs": []
    },
    {
      "cell_type": "code",
      "metadata": {
        "colab": {
          "base_uri": "https://localhost:8080/"
        },
        "id": "VSKDS6-Pknxs",
        "outputId": "5c8f36c4-cf5b-4538-d5f5-6daed2b9361e"
      },
      "source": [
        "# test our function\n",
        "Fahrenheit_to_Celsius(100)\n"
      ],
      "execution_count": 2,
      "outputs": [
        {
          "output_type": "execute_result",
          "data": {
            "text/plain": [
              "37.77777777777778"
            ]
          },
          "metadata": {},
          "execution_count": 2
        }
      ]
    }
  ]
}